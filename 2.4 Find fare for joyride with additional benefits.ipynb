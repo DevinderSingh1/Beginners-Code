{
 "cells": [
  {
   "cell_type": "markdown",
   "id": "e86070bf",
   "metadata": {},
   "source": [
    "## 2.4 Find fare for joyride with additional benefits\n",
    "Concepts: input(), type conversion of input, if-else(nested), using variable for summation"
   ]
  },
  {
   "cell_type": "code",
   "execution_count": 115,
   "id": "f0a95c44",
   "metadata": {},
   "outputs": [
    {
     "name": "stdout",
     "output_type": "stream",
     "text": [
      "What is your height in centimeters?\n",
      "125\n",
      "What is your age in years?\n",
      "25\n",
      "Adult tickets are Rs.20\n",
      "Do you want a photo of your ride? Y or N\n",
      "N\n",
      "Your final bill is 20\n"
     ]
    }
   ],
   "source": [
    "height = int(input(\"What is your height in centimeters?\\n\"))\n",
    "bill = 0\n",
    "\n",
    "if height >=120:\n",
    "    age = int(input(\"What is your age in years?\\n\"))\n",
    "    if age < 12:\n",
    "        bill += 5\n",
    "        print(f\"Child tickets are Rs.{bill}\")\n",
    "    elif age <= 18:\n",
    "        bill += 10\n",
    "        print(f\"Youth tickets are Rs.{bill}\")\n",
    "    else:\n",
    "        bill += 20\n",
    "        print(f\"Adult tickets are Rs.{bill}\")   \n",
    "        \n",
    "    with_photo = input(\"Do you want a photo of your ride? Y or N\\n\")\n",
    "    if with_photo == \"Y\":\n",
    "        bill += 3\n",
    "    print(f\"Your final bill is {bill}\")\n",
    "else:\n",
    "    print(\"Sorry, you have to grow taller to book a ride.\")\n",
    "    "
   ]
  }
 ],
 "metadata": {
  "kernelspec": {
   "display_name": "Python 3 (ipykernel)",
   "language": "python",
   "name": "python3"
  },
  "language_info": {
   "codemirror_mode": {
    "name": "ipython",
    "version": 3
   },
   "file_extension": ".py",
   "mimetype": "text/x-python",
   "name": "python",
   "nbconvert_exporter": "python",
   "pygments_lexer": "ipython3",
   "version": "3.9.12"
  }
 },
 "nbformat": 4,
 "nbformat_minor": 5
}
