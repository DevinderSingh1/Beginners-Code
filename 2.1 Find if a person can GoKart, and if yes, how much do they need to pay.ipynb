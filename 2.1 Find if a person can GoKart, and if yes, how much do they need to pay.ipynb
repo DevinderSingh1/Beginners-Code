{
 "cells": [
  {
   "cell_type": "markdown",
   "id": "e86070bf",
   "metadata": {},
   "source": [
    "## 2.1. Find if a person can GoKart, and if yes, how much do they need to pay.\n",
    "#### Concept: Conditionals(if, else, elif), comparison operators(>,< ,==,!=), assignment operator(=,:), logical operators(or, and), code blocks and scope, nested if-else, input() in nested if-else."
   ]
  },
  {
   "cell_type": "markdown",
   "id": "a55107ea",
   "metadata": {},
   "source": [
    "if-else: depending upon particular condition we do either a or b.\n",
    "syntax: \n",
    "\n",
    "if condition:\n",
    "    do this\n",
    "else:\n",
    "    do that"
   ]
  },
  {
   "cell_type": "code",
   "execution_count": 15,
   "id": "c6ea81c4",
   "metadata": {},
   "outputs": [
    {
     "name": "stdout",
     "output_type": "stream",
     "text": [
      "Welcome to GoKart arean!\n",
      "What is your height in centimeters?\n",
      "125\n",
      "You may GoKart!\n",
      "Please enter your age?\n",
      "11\n",
      "You have to pay Rs.10\n"
     ]
    }
   ],
   "source": [
    "print(\"Welcome to GoKart arean!\")\n",
    "\n",
    "height = float(input(\"What is your height in centimeters?\\n\"))\n",
    "if height >= 110:\n",
    "    print(\"You may GoKart!\")\n",
    "    age = int(input(\"Please enter your age?\\n\"))\n",
    "    if age >= 18:\n",
    "        print(\"You have to pay Rs.20\")\n",
    "    elif age >= 12:\n",
    "        print(\"You have to pay Rs.15\")\n",
    "    else:\n",
    "        print(\"You have to pay Rs.10\")\n",
    "else:\n",
    "    print(\"You may not GoKart.\")"
   ]
  },
  {
   "cell_type": "markdown",
   "id": "ffb23631",
   "metadata": {},
   "source": [
    "- The important things here are:(i) \"condition\" which we are testing( is the value of height we are testing greater than 110?), (ii) the syntax of code(key words \"if\" and \"else\" as well as colons that come after each of the key word statements and finally, (iii) the indentation. Every that is indented after key word statements is a block of code, it effectively lives inside the key word statement.\n",
    "- \"if\" and \"else\" are a pair. \"if\" block of code is executed when the condition being tested is true and the \"else\" block of code is executed when the condition being tested is false.\n",
    "- \">\" and \"=\" in the above code are comparison operators.\n",
    "- We may have \"if\" and \"else\" statements nested in the block of code of another \"if\" and \"else\" statement."
   ]
  }
 ],
 "metadata": {
  "kernelspec": {
   "display_name": "Python 3 (ipykernel)",
   "language": "python",
   "name": "python3"
  },
  "language_info": {
   "codemirror_mode": {
    "name": "ipython",
    "version": 3
   },
   "file_extension": ".py",
   "mimetype": "text/x-python",
   "name": "python",
   "nbconvert_exporter": "python",
   "pygments_lexer": "ipython3",
   "version": "3.9.12"
  }
 },
 "nbformat": 4,
 "nbformat_minor": 5
}
