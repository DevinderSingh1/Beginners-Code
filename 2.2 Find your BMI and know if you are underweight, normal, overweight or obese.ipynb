{
 "cells": [
  {
   "cell_type": "markdown",
   "id": "e86070bf",
   "metadata": {},
   "source": [
    "## 2.2. Find your BMI and know if you are underweight, normal, overweight or obese.\n",
    "Concepts: print(), input(), type conversion of input, round(), if-else, f-string"
   ]
  },
  {
   "cell_type": "code",
   "execution_count": 33,
   "id": "519acf33",
   "metadata": {},
   "outputs": [
    {
     "name": "stdout",
     "output_type": "stream",
     "text": [
      "Welcome to BMI calculator!\n",
      "Please enter your age so that I may tell you if you are normal or obese!\n",
      "30\n",
      "Please enter your weight in kgs so that I may calculate your BMI!\n",
      "60\n",
      "Please enter your height in meters, so that I may calculate your BMI!\n",
      "1.59\n",
      "Your BMI is 23.73, you have normal weight.\n"
     ]
    }
   ],
   "source": [
    "print(\"Welcome to BMI calculator!\")\n",
    "age = int(input(\"Please enter your age so that I may tell you if you are normal or obese!\\n\"))\n",
    "weight = int(input(\"Please enter your weight in kgs so that I may calculate your BMI!\\n\"))\n",
    "height = float(input(\"Please enter your height in meters, so that I may calculate your BMI!\\n\"))\n",
    "BMI = round(weight/(height ** 2),2)\n",
    "if BMI < 18.5:\n",
    "    print(f\"Your BMI is {BMI}, you are underweight.\")\n",
    "elif BMI < 25:\n",
    "    print(f\"Your BMI is {BMI}, you have normal weight.\") \n",
    "elif BMI < 30:\n",
    "    print(f\"Your BMI is {BMI}, you are overweight.\")\n",
    "elif BMI < 35:\n",
    "    print(f\"Your BMI is {BMI}, you are obese.\")\n",
    "else:\n",
    "    print(f\"Your BMI is {BMI}, you are clinically obese.\")"
   ]
  }
 ],
 "metadata": {
  "kernelspec": {
   "display_name": "Python 3 (ipykernel)",
   "language": "python",
   "name": "python3"
  },
  "language_info": {
   "codemirror_mode": {
    "name": "ipython",
    "version": 3
   },
   "file_extension": ".py",
   "mimetype": "text/x-python",
   "name": "python",
   "nbconvert_exporter": "python",
   "pygments_lexer": "ipython3",
   "version": "3.9.12"
  }
 },
 "nbformat": 4,
 "nbformat_minor": 5
}
