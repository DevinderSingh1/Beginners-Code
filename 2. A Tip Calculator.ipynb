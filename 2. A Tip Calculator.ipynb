{
 "cells": [
  {
   "cell_type": "markdown",
   "id": "e86070bf",
   "metadata": {},
   "source": [
    "## 2. A Tip Calculator\n",
    "#### Concept: Data Types, Numbers, Arithmetic Operations, Type Conversion, f-string."
   ]
  },
  {
   "cell_type": "code",
   "execution_count": 66,
   "id": "acd389d8",
   "metadata": {},
   "outputs": [
    {
     "name": "stdout",
     "output_type": "stream",
     "text": [
      "Welcome to the tip calculator!\n",
      "\n",
      "How much is the fare for the ride?\n",
      " Rs.100\n",
      "How many people to split the fare?\n",
      "5\n",
      "How much tip would you like tip pay?\n",
      " 10 or 13 or 16 or ?\n",
      "10\n",
      "Each person has to pay, Rs.22.00\n"
     ]
    }
   ],
   "source": [
    "print(\"Welcome to the tip calculator!\\n\")\n",
    "\n",
    "# Following statement asks user for the fare payable for the ride.\n",
    "\n",
    "fare = float(input(\"How much is the fare for the ride?\\n Rs.\"))\n",
    "\n",
    "# Following statement asks for the number of persons who shared the ride.\n",
    "\n",
    "people = int(input(\"How many people to split the fare?\\n\"))\n",
    "\n",
    "# Following statement asks the user what percent tip would he like to pay 10, 13, 16.\n",
    "\n",
    "tip_percent = int(input(\"How much tip would you like tip pay?\\n 10 or 13 or 16 or ?\\n\"))\n",
    "\n",
    "# Following statement calculates tip amount.\n",
    "\n",
    "tip_amount = fare * (tip_percent/100)\n",
    "\n",
    "# Following statement calculates the amount of fare including tip.\n",
    "\n",
    "amount_with_tip = fare + tip_amount\n",
    "\n",
    "# Following statement calculates amount per person.\n",
    "\n",
    "amount_per_person = \"{:.2f}\".format(amount_with_tip/people)\n",
    "\n",
    "print(f\"Each person has to pay, Rs.{amount_per_person}\")"
   ]
  }
 ],
 "metadata": {
  "kernelspec": {
   "display_name": "Python 3 (ipykernel)",
   "language": "python",
   "name": "python3"
  },
  "language_info": {
   "codemirror_mode": {
    "name": "ipython",
    "version": 3
   },
   "file_extension": ".py",
   "mimetype": "text/x-python",
   "name": "python",
   "nbconvert_exporter": "python",
   "pygments_lexer": "ipython3",
   "version": "3.9.12"
  }
 },
 "nbformat": 4,
 "nbformat_minor": 5
}
