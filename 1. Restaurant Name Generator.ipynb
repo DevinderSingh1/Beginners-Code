{
 "cells": [
  {
   "cell_type": "markdown",
   "id": "e86070bf",
   "metadata": {},
   "source": [
    "### 1. Restaurant Name Generator\n",
    "#### Concept: string concatenation."
   ]
  },
  {
   "cell_type": "markdown",
   "id": "3e9905ca",
   "metadata": {},
   "source": [
    "## 1. Restaurant Name Generator"
   ]
  },
  {
   "cell_type": "code",
   "execution_count": 1,
   "id": "acd389d8",
   "metadata": {},
   "outputs": [
    {
     "name": "stdout",
     "output_type": "stream",
     "text": [
      "Welcome to the restaurant name generator!\n",
      "\n",
      "Enter the name of your favourite colour and I will give you the name of restaurant!\n",
      "Green\n",
      "Enter the name of your favourite fruit and I will give you the name of restaurant!\n",
      "Peach\n",
      "The name of your restaurant could be:\n",
      " Green Peach\n"
     ]
    }
   ],
   "source": [
    "print(\"Welcome to the restaurant name generator!\\n\")\n",
    "\n",
    "# Following statement asks for the name user's favourite colour, \n",
    "# which will be a part of the name suggested by the generator.\n",
    "\n",
    "fruit = input(\"Enter the name of your favourite colour and I will give you the name of restaurant!\\n\")\n",
    "\n",
    "# Following statement asks for the user's favourite fruit, \n",
    "# which will be a part of the name suggeated by the generator.\n",
    "\n",
    "colour = input(\"Enter the name of your favourite fruit and I will give you the name of restaurant!\\n\")\n",
    "\n",
    "# The following statement gives the name of restaurant as output.\n",
    "print(\"The name of your restaurant could be:\\n\",fruit+\" \"+colour)"
   ]
  }
 ],
 "metadata": {
  "kernelspec": {
   "display_name": "Python 3 (ipykernel)",
   "language": "python",
   "name": "python3"
  },
  "language_info": {
   "codemirror_mode": {
    "name": "ipython",
    "version": 3
   },
   "file_extension": ".py",
   "mimetype": "text/x-python",
   "name": "python",
   "nbconvert_exporter": "python",
   "pygments_lexer": "ipython3",
   "version": "3.9.12"
  }
 },
 "nbformat": 4,
 "nbformat_minor": 5
}
