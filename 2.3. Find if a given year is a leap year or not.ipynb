{
 "cells": [
  {
   "cell_type": "markdown",
   "id": "e86070bf",
   "metadata": {},
   "source": [
    "## 2.3. Find if a given year is a leap year or not?\n",
    "Concepts: input(), type conversion of input from string to integer, if-else(nested), mod-operator, \"==\", "
   ]
  },
  {
   "cell_type": "code",
   "execution_count": 87,
   "id": "609f378c",
   "metadata": {},
   "outputs": [
    {
     "name": "stdout",
     "output_type": "stream",
     "text": [
      "Please enter the year, and I will tell you if it is a leap year or not?\n",
      "1992\n",
      "The year 1992 is a leap year.\n"
     ]
    }
   ],
   "source": [
    "year = int(input(\"Please enter the year, and I will tell you if it is a leap year or not?\\n\"))\n",
    "if year % 4 == 0:\n",
    "    if year % 100 == 0:\n",
    "        if year % 400 == 0:\n",
    "            print(f\"The year {year} is a leap year.\")  # 400, 2000, %4 == 0% 100 == 0% 400 == 0\n",
    "        else:           \n",
    "            print(f\"The year {year} is not a leap year.\") # 2100,%4 == 0, %100 ==0, %400 !=0\n",
    "    else:\n",
    "        print(f\"The year {year} is a leap year.\")  # 1992, 1988,% 4== 0, % 100 != 0, % 400 != 0\n",
    "else:           \n",
    "    print(f\"The year {year} is not a leap year.\")  # 1993, 1801 i.e. % 4 != 0,: not a leap year"
   ]
  }
 ],
 "metadata": {
  "kernelspec": {
   "display_name": "Python 3 (ipykernel)",
   "language": "python",
   "name": "python3"
  },
  "language_info": {
   "codemirror_mode": {
    "name": "ipython",
    "version": 3
   },
   "file_extension": ".py",
   "mimetype": "text/x-python",
   "name": "python",
   "nbconvert_exporter": "python",
   "pygments_lexer": "ipython3",
   "version": "3.9.12"
  }
 },
 "nbformat": 4,
 "nbformat_minor": 5
}
